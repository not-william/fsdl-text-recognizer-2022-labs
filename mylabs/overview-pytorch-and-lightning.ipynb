{
 "cells": [
  {
   "cell_type": "markdown",
   "id": "5c02dc40",
   "metadata": {},
   "source": [
    "# Overview"
   ]
  },
  {
   "cell_type": "markdown",
   "id": "bcfcfd8c",
   "metadata": {},
   "source": [
    "Here we will descrive the high-level tech stack of the machine learning system that we will build.\n",
    "\n",
    "## Front-end and feedback\n",
    "\n",
    "Developing in Javascript - yuk. Instead, use Python libraries [Gradio](https://www.gradio.app/) or [Streamlit](https://streamlit.io/). These libraries are designed for data applications. We also save ourselves from having to learn an entirely new tech stack as a Python developer.\n",
    "\n",
    "Model feedback is sent to [Gantry](https://gantry.io/).\n",
    "\n",
    "## Backend\n",
    "\n",
    "The model backend accepts requests through a REST API. It's deployed in a Docker container, serverlessly in AWS Lambda. The choice to go serverless makes it effortless to scale up throughput by a couple of orders of magnitude. The Docker container is hosted in AWS Elastic Container Registry.\n",
    "\n",
    "For more complex services, container orchestration becomes important. For this, the premium tool is Kubernetes (k8s).\n",
    "\n",
    "## Training\n",
    "\n",
    "Use a cloud GPU provider such as [Lambda Labs GPU Cloud](https://lambdalabs.com/service/gpu-cloud).\n",
    "\n",
    "We develop the model using PyTorch. PyTorch is a lower-level library that provides autograd and features for making neural networks. It also accelerated gradient computations using the GPU. [PyTorch Lightning](https://pytorch-lightning.readthedocs.io/en/stable/) is a higher-level framework that provides ??? (training loop?).\n",
    "\n",
    "## Experiment and artifact tracking\n",
    "\n",
    "MLFlow is an open source tool that tracks experiment results and hyperparameters, and artifacts (model checkpoints). Weights and Biases is a proprietary but hosted tool."
   ]
  },
  {
   "cell_type": "markdown",
   "id": "8220f625",
   "metadata": {},
   "source": [
    "# Setup\n",
    "\n",
    "We use [Conda](https://docs.conda.io/en/latest/) to manage Python environments.\n",
    "\n",
    "We use [pip-tools](https://pypi.org/project/pip-tools/) to give us deterministic installations of Python packages. pip-tools compiles a list of requirements into a requirements file with exact versions, similar to `package.json` and `package-lock.json` in Javascript."
   ]
  },
  {
   "cell_type": "markdown",
   "id": "e8e4a65d",
   "metadata": {},
   "source": [
    "# PyTorch"
   ]
  },
  {
   "cell_type": "markdown",
   "id": "0a79bb48",
   "metadata": {},
   "source": [
    "## Tensors\n",
    "\n",
    "A Tensor is PyTorch's array class. Numpy arrays can be passed into torch.Tensor as a constructor to create arrays."
   ]
  },
  {
   "cell_type": "code",
   "execution_count": 2,
   "id": "93b84e6f",
   "metadata": {},
   "outputs": [
    {
     "data": {
      "text/plain": [
       "tensor([[1., 2.],\n",
       "        [3., 4.]])"
      ]
     },
     "execution_count": 2,
     "metadata": {},
     "output_type": "execute_result"
    }
   ],
   "source": [
    "import torch\n",
    "import numpy as np\n",
    "\n",
    "my_array = np.array([[1, 2], [3, 4]])\n",
    "\n",
    "tensor = torch.Tensor(my_array)\n",
    "tensor"
   ]
  },
  {
   "cell_type": "markdown",
   "id": "9cba5324",
   "metadata": {},
   "source": [
    "A Tensor has `ndim` and `shape` attributes:"
   ]
  },
  {
   "cell_type": "code",
   "execution_count": 6,
   "id": "7216a2d3",
   "metadata": {},
   "outputs": [
    {
     "name": "stdout",
     "output_type": "stream",
     "text": [
      "2\n"
     ]
    }
   ],
   "source": [
    "tensor.ndim"
   ]
  },
  {
   "cell_type": "code",
   "execution_count": 7,
   "id": "37fbb293",
   "metadata": {},
   "outputs": [
    {
     "data": {
      "text/plain": [
       "torch.Size([2, 2])"
      ]
     },
     "execution_count": 7,
     "metadata": {},
     "output_type": "execute_result"
    }
   ],
   "source": [
    "tensor.shape"
   ]
  },
  {
   "cell_type": "markdown",
   "id": "433dfc8f",
   "metadata": {},
   "source": [
    "and can be indexed as you would expect. Indexed Tensors always return a new Tensor."
   ]
  },
  {
   "cell_type": "code",
   "execution_count": 8,
   "id": "47a58d9d",
   "metadata": {},
   "outputs": [
    {
     "data": {
      "text/plain": [
       "tensor([[2.],\n",
       "        [4.]])"
      ]
     },
     "execution_count": 8,
     "metadata": {},
     "output_type": "execute_result"
    }
   ],
   "source": [
    "tensor[:, 1:]"
   ]
  },
  {
   "cell_type": "markdown",
   "id": "02e29eb3",
   "metadata": {},
   "source": [
    "## Autograd"
   ]
  },
  {
   "cell_type": "markdown",
   "id": "3e4c0723",
   "metadata": {},
   "source": [
    "First, you need to tell PyTorch which tensor gradients to track:"
   ]
  },
  {
   "cell_type": "code",
   "execution_count": 3,
   "id": "7b6fff85",
   "metadata": {},
   "outputs": [
    {
     "data": {
      "text/plain": [
       "tensor([2.], requires_grad=True)"
      ]
     },
     "execution_count": 3,
     "metadata": {},
     "output_type": "execute_result"
    }
   ],
   "source": [
    "a = torch.Tensor((3,))\n",
    "b = torch.Tensor((2,))\n",
    "a.requires_grad_()\n",
    "b.requires_grad_()"
   ]
  },
  {
   "cell_type": "markdown",
   "id": "89a49362",
   "metadata": {},
   "source": [
    "Then write your function:"
   ]
  },
  {
   "cell_type": "code",
   "execution_count": 5,
   "id": "32af0d53",
   "metadata": {},
   "outputs": [
    {
     "data": {
      "text/plain": [
       "tensor([17.], grad_fn=<AddBackward0>)"
      ]
     },
     "execution_count": 5,
     "metadata": {},
     "output_type": "execute_result"
    }
   ],
   "source": [
    "x = torch.Tensor((5,))\n",
    "y = a * x + b\n",
    "y"
   ]
  },
  {
   "cell_type": "markdown",
   "id": "2db9efc4",
   "metadata": {},
   "source": [
    "And finally tell PyTorch which quantity to compute gradients with respect to:"
   ]
  },
  {
   "cell_type": "code",
   "execution_count": 7,
   "id": "a918a660",
   "metadata": {},
   "outputs": [
    {
     "name": "stdout",
     "output_type": "stream",
     "text": [
      "tensor([5.])\n",
      "tensor([1.])\n"
     ]
    }
   ],
   "source": [
    "y.backward()\n",
    "print(a.grad)\n",
    "print(b.grad)"
   ]
  },
  {
   "cell_type": "markdown",
   "id": "1168e773",
   "metadata": {},
   "source": [
    "For future calls, you need to zero the gradients."
   ]
  },
  {
   "cell_type": "code",
   "execution_count": 11,
   "id": "64facdf9",
   "metadata": {},
   "outputs": [
    {
     "data": {
      "text/plain": [
       "tensor([0.])"
      ]
     },
     "execution_count": 11,
     "metadata": {},
     "output_type": "execute_result"
    }
   ],
   "source": [
    "a.grad.zero_()\n",
    "b.grad.zero_()"
   ]
  },
  {
   "cell_type": "markdown",
   "id": "7ee33507",
   "metadata": {},
   "source": [
    "## Datasets and Dataloaders"
   ]
  },
  {
   "cell_type": "markdown",
   "id": "452084d9",
   "metadata": {},
   "source": [
    "Within a _single split_ of out dataset (e.g. train or test), we have to align the x and y values. We can do this using `torch.utils.data.Dataset`."
   ]
  },
  {
   "cell_type": "code",
   "execution_count": 26,
   "id": "fdd4aa08",
   "metadata": {},
   "outputs": [],
   "source": [
    "class MyDataset(torch.utils.data.Dataset):\n",
    "    def __init__(self):\n",
    "        self.x = torch.randn(100)\n",
    "        self.y = torch.randn_like(self.x) + self.x\n",
    "    \n",
    "    def __getitem__(self, ii):\n",
    "        return self.x[ii], self.y[ii]\n",
    "    \n",
    "    def __len__(self):\n",
    "        return len(self.x)"
   ]
  },
  {
   "cell_type": "code",
   "execution_count": 27,
   "id": "fbf0ba21",
   "metadata": {},
   "outputs": [],
   "source": [
    "mydataset = MyDataset()"
   ]
  },
  {
   "cell_type": "code",
   "execution_count": 28,
   "id": "81731dd4",
   "metadata": {},
   "outputs": [
    {
     "data": {
      "text/plain": [
       "100"
      ]
     },
     "execution_count": 28,
     "metadata": {},
     "output_type": "execute_result"
    }
   ],
   "source": [
    "len(mydataset)"
   ]
  },
  {
   "cell_type": "code",
   "execution_count": 29,
   "id": "82aac757",
   "metadata": {},
   "outputs": [
    {
     "data": {
      "text/plain": [
       "100"
      ]
     },
     "execution_count": 29,
     "metadata": {},
     "output_type": "execute_result"
    }
   ],
   "source": [
    "len(torch.randn(100))"
   ]
  },
  {
   "cell_type": "code",
   "execution_count": 31,
   "id": "145eaf59",
   "metadata": {},
   "outputs": [
    {
     "data": {
      "text/plain": [
       "(tensor(-1.2057), tensor(-1.8518))"
      ]
     },
     "execution_count": 31,
     "metadata": {},
     "output_type": "execute_result"
    }
   ],
   "source": [
    "mydataset[0]"
   ]
  },
  {
   "cell_type": "code",
   "execution_count": 32,
   "id": "603af95d",
   "metadata": {},
   "outputs": [],
   "source": [
    "import matplotlib.pyplot as plt"
   ]
  },
  {
   "cell_type": "code",
   "execution_count": 46,
   "id": "f2ee3eb8",
   "metadata": {},
   "outputs": [
    {
     "data": {
      "image/png": "[encoded data removed]",
      "text/plain": [
       "<Figure size 640x480 with 1 Axes>"
      ]
     },
     "metadata": {},
     "output_type": "display_data"
    }
   ],
   "source": [
    "x, y = mydataset[:]\n",
    "plt.scatter(x, y)\n",
    "plt.show()"
   ]
  },
  {
   "cell_type": "markdown",
   "id": "5b906804",
   "metadata": {},
   "source": [
    "We can make use of Dataloaders to automatically batch up our data."
   ]
  },
  {
   "cell_type": "code",
   "execution_count": 49,
   "id": "53e07dc9",
   "metadata": {},
   "outputs": [],
   "source": [
    "from torch.utils.data import DataLoader\n",
    "\n",
    "my_dataloader = DataLoader(mydataset, batch_size=10)"
   ]
  },
  {
   "cell_type": "code",
   "execution_count": 52,
   "id": "d8698c96",
   "metadata": {},
   "outputs": [
    {
     "data": {
      "text/plain": [
       "[tensor([-1.2057, -0.9754,  0.8051,  1.7271,  1.7104, -0.7013,  0.4768,  0.7633,\n",
       "         -0.0388, -1.1386]),\n",
       " tensor([-1.8518, -0.4042, -0.2619,  2.7286,  1.8250,  1.6149,  0.3306,  1.5434,\n",
       "         -0.4194, -2.0667])]"
      ]
     },
     "execution_count": 52,
     "metadata": {},
     "output_type": "execute_result"
    }
   ],
   "source": [
    "next(iter(my_dataloader))"
   ]
  },
  {
   "cell_type": "markdown",
   "id": "efd719fb",
   "metadata": {},
   "source": [
    "## More data organisation with Data Modules"
   ]
  },
  {
   "cell_type": "markdown",
   "id": "c5092dac",
   "metadata": {},
   "source": [
    "For proper organisation, we can create a data module class which sets up train and validation splits, creates `Datasets` for them, and wrap them up in `DataLoader`s."
   ]
  },
  {
   "cell_type": "code",
   "execution_count": 56,
   "id": "58f67fce",
   "metadata": {},
   "outputs": [],
   "source": [
    "class MyDataModule():\n",
    "    def __init__(self, dir, bs=32):\n",
    "        self.dir = dir\n",
    "        self.bs = bs\n",
    "    \n",
    "    def prepare_data(self):\n",
    "        # once-per-machine set up for downloading data\n",
    "        pass\n",
    "    \n",
    "    def setup(self):\n",
    "        # loads data into memory and creates Datasets\n",
    "        this.train_dataset = None\n",
    "        this.val_dataset = None\n",
    "    \n",
    "    def train_dataloader(self):\n",
    "        return DataLoader(this.train_dataset, batch_size=bs, shuffle=True)\n",
    "    \n",
    "    def val_dataloader(self):\n",
    "        return DataLoader(this.val_dataset, batch_size=bs, shuffle=True)"
   ]
  },
  {
   "cell_type": "markdown",
   "id": "69ca4c2d",
   "metadata": {},
   "source": [
    "# Modules"
   ]
  },
  {
   "cell_type": "markdown",
   "id": "572b13d8",
   "metadata": {},
   "source": [
    "Modules in PyTorch represent functions with parameters where you want to keep track of gradients.\n",
    "\n",
    "A `Parameter` assigned as an attribute will be listed in the object's `.parameters()` method.\n",
    "\n",
    "Modules can be assigned as attributes of other modules. In this case, parameters are recursively added to their parent's module.\n",
    "\n",
    "Gradients still need to be manually calculated and updated, but this is much easier now by looping over `module.parameters()` or passing that to an optimiser."
   ]
  },
  {
   "cell_type": "markdown",
   "id": "4a83e9b8",
   "metadata": {},
   "source": [
    "# PyTorch Lightning"
   ]
  },
  {
   "cell_type": "markdown",
   "id": "340f572d",
   "metadata": {},
   "source": [
    "PyTorch Lightning helps organise your code and data."
   ]
  },
  {
   "cell_type": "markdown",
   "id": "4b07ef43",
   "metadata": {},
   "source": [
    "## The `pl.LightningModule`\n",
    "\n",
    "The LightningModule is a subclass of a PyTorch Module. It contains adds support for `.training_step()`, `.validation_step()` and `.test_step()` methods, which run on training, validation and test steps. These methods are passed the batch and batch id.\n",
    "\n",
    "The LightningModule also adds support for a `.configure_optimizers()` method, where you can set up and return an optimizer pointing at the model's parameters."
   ]
  },
  {
   "cell_type": "markdown",
   "id": "8ac15122",
   "metadata": {},
   "source": [
    "## The `pl.Trainer`"
   ]
  },
  {
   "cell_type": "markdown",
   "id": "9ae3cca3",
   "metadata": {},
   "source": [
    "The pl.Trainer, when instantiated, takes arguments related to the training loop such as min and max epochs, min and max steps, and gpu usage:"
   ]
  },
  {
   "cell_type": "code",
   "execution_count": 60,
   "id": "2478d971",
   "metadata": {},
   "outputs": [
    {
     "name": "stderr",
     "output_type": "stream",
     "text": [
      "GPU available: True, used: True\n",
      "TPU available: False, using: 0 TPU cores\n",
      "IPU available: False, using: 0 IPUs\n",
      "HPU available: False, using: 0 HPUs\n"
     ]
    }
   ],
   "source": [
    "import pytorch_lightning as pl\n",
    "trainer = pl.Trainer(max_epochs=20, gpus=int(torch.cuda.is_available()))"
   ]
  },
  {
   "cell_type": "markdown",
   "id": "38b7d942",
   "metadata": {},
   "source": [
    "The `.fit` method of `trainer` takes the model and dataloader we want to use:"
   ]
  },
  {
   "cell_type": "code",
   "execution_count": null,
   "id": "c535b1a5",
   "metadata": {},
   "outputs": [],
   "source": [
    "trainer.fit(model=model, train_dataloaders=tdl)"
   ]
  },
  {
   "cell_type": "markdown",
   "id": "db93b613",
   "metadata": {},
   "source": [
    "The `pl.Trainer` class is highly customisable. Here are just some of the flags available:\n",
    "    \n",
    "* `auto_lr_find`: will make `trainer.tune()` run a learning rate find\n",
    "* `auto_scale_batch_size`: will find the largest batch size that can fit in memory and store in `self.batch_size` in the LightningModule\n",
    "* `callbacks`: list of callbacks\n",
    "* `enable_checkpointing`: enable checkpointing\n",
    "* `fast_dev_run`: will run `n` or 1 (if set to `True`) batches as a test to find bugs\n",
    "* `gpus`: number of GPUs to train on (if int) or which GPUs to use (list or str)\n",
    "* `logger`: Logger for experiment tracking. A `True` value uses the default `TensorboardLogger`\n",
    "* `enable_progress_bar`: whether to enable the progress bar\n",
    "* `profiler`: to profile individual steps in the training process to find bottlenecks\n",
    "* `max_epochs`, `min_epochs`, `max_steps`, `min_steps`, `max_time`: control training length\n",
    "* `detect_anomaly`: enable anomaly detection in the autograd engine, for example if any of the metrics are NaN or inf\n",
    "* `val_check_interval`: how often to run the validation loop. Pass a float in [0.0, 1.0] to run at a fraction of each epoch, or an int to run every n batches\n",
    "* `enable_model_summary`: prints a model summary at the start of training\n",
    "* `num_sanity_val_steps`: perform a dummy validation before the first training epoch. This prevents bugs with validation only being found after the first epoch, which could be hours. Set to 0 to disable"
   ]
  },
  {
   "cell_type": "markdown",
   "id": "88fb7461",
   "metadata": {},
   "source": [
    "## The `pl.LightningDataModule`\n",
    "\n",
    "The `LightningDataModule` is a standard form of the data modules above, following a similar format. PyTorch will automatically run `.prepare_data()` and `.setup()` once per machine, and on each GPU respectively. `LightningDataModules` can also play nicely with `pl.Trainer`, for example with the `auto_scale_batch_size` flag.\n",
    "\n",
    "```\n",
    "    Example::\n",
    "\n",
    "        class MyDataModule(LightningDataModule):\n",
    "            def __init__(self):\n",
    "                super().__init__()\n",
    "            def prepare_data(self):\n",
    "                # download, split, etc...\n",
    "                # only called on 1 GPU/TPU in distributed\n",
    "            def setup(self, stage):\n",
    "                # make assignments here (val/train/test split)\n",
    "                # called on every process in DDP\n",
    "            def train_dataloader(self):\n",
    "                train_split = Dataset(...)\n",
    "                return DataLoader(train_split)\n",
    "            def val_dataloader(self):\n",
    "                val_split = Dataset(...)\n",
    "                return DataLoader(val_split)\n",
    "            def test_dataloader(self):\n",
    "                test_split = Dataset(...)\n",
    "                return DataLoader(test_split)\n",
    "            def teardown(self):\n",
    "                # clean up after fit or test\n",
    "                # called on every process in DDP\n",
    "```"
   ]
  },
  {
   "cell_type": "markdown",
   "id": "d225503d",
   "metadata": {},
   "source": [
    "## `pl.Callback`\n",
    "\n",
    "A class that implements methods such as `on_train_epoch_start`, which, you guessed it, runs a callback at the appropriate time during the training loop."
   ]
  },
  {
   "cell_type": "markdown",
   "id": "7edcc32d",
   "metadata": {},
   "source": [
    "## `torchmetrics`\n",
    "\n",
    "`torchmetrics` is a very useful library for calculating metrics."
   ]
  },
  {
   "cell_type": "code",
   "execution_count": null,
   "id": "f6d64184",
   "metadata": {},
   "outputs": [],
   "source": []
  }
 ],
 "metadata": {
  "kernelspec": {
   "display_name": "Python 3 (ipykernel)",
   "language": "python",
   "name": "python3"
  },
  "language_info": {
   "codemirror_mode": {
    "name": "ipython",
    "version": 3
   },
   "file_extension": ".py",
   "mimetype": "text/x-python",
   "name": "python",
   "nbconvert_exporter": "python",
   "pygments_lexer": "ipython3",
   "version": "3.9.5"
  }
 },
 "nbformat": 4,
 "nbformat_minor": 5
}
